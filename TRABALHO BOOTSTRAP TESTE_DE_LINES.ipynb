{
 "cells": [
  {
   "cell_type": "markdown",
   "id": "6880f9e7",
   "metadata": {},
   "source": [
    "## Estimando Melhores Combinações de Jogadores Utilizando Bootstrap"
   ]
  },
  {
   "cell_type": "markdown",
   "id": "9776d1a2",
   "metadata": {},
   "source": [
    "No competitivo dos jogos do gênero Battle Royale a pontuação por kill tem muita relevância no desempenho final de um time nas partidas. Assim sendo, esse desempenho depende da performance individual dos jogadores, e consequentemente da combinação que a comissão técnica opta por escalar, uma vez que o competitivo da modalidade é coletiva, com 4 players podendo entrar por queda.\n",
    "\n",
    "Portanto, a fase de criação da equipe antes dos jogos começarem é uma etapa essencial pra obter bons resultados no final da temporada, e na maioria das vezes não há tempo hábil para testar diferentes jogadores, e muito menos combinações entre eles com uma quantidade razoável de partidas. Logo, aplicar técnicas de bootstrap para estimar indicadores de desempenho tanto de combinações de jogadores que já jogaram juntos quanto de formações que ainda não jogaram, será bem útil para a comissão decidir quem agregará mais ao grupo. \n",
    "\n",
    "Deste modo, aplicaremos a técnica de bootstrap em dados coletados no fim do ano de 2022 em testes realizados na equipe XIS com intuito de estimar as melhores combinações de jogadores para contratações. Os dados foram extraidos de prints tirados pelos jogadores a cada final de partida e assim foi criado um banco de dados para ser trabalhado posteriormente. Como métrica de desempenho utilizaremos as kills individuais dos jogadores e assim agregaremos ao coletivo onde extraíremos a média de kills dos diferentes times formados em n simulações."
   ]
  },
  {
   "cell_type": "markdown",
   "id": "0aa8e5a1",
   "metadata": {},
   "source": [
    "## Scripts"
   ]
  },
  {
   "cell_type": "code",
   "execution_count": 7,
   "id": "90d9913c",
   "metadata": {
    "scrolled": true
   },
   "outputs": [
    {
     "name": "stdout",
     "output_type": "stream",
     "text": [
      "'data.frame':\t448 obs. of  12 variables:\n",
      " $ PLAYER     : Factor w/ 13 levels \"\",\"ALVES\",\"CAUE\",..: 13 8 3 7 7 3 8 13 3 13 ...\n",
      " $ KILLS      : int  4 2 1 1 3 0 0 0 2 1 ...\n",
      " $ DEADS      : int  1 2 2 2 1 1 1 1 1 1 ...\n",
      " $ ASS        : int  0 0 0 1 1 2 0 1 1 0 ...\n",
      " $ DANO       : int  1146 608 1219 913 1304 14 151 146 868 757 ...\n",
      " $ DERRUBADOS : int  4 2 1 1 4 2 0 0 3 1 ...\n",
      " $ CURA       : int  410 89 70 148 301 173 32 261 161 189 ...\n",
      " $ SAVES      : int  0 0 1 0 1 0 0 0 2 0 ...\n",
      " $ USO.RETORNO: int  1 0 0 0 0 0 0 0 0 0 ...\n",
      " $ SURVIVE_M  : int  13 12 13 13 9 12 8 9 7 7 ...\n",
      " $ SURVIVE_S  : int  30 50 30 29 23 36 31 18 58 21 ...\n",
      " $ MATCH_ID   : int  1 1 1 1 2 2 2 2 3 3 ...\n"
     ]
    }
   ],
   "source": [
    "#Carregando Pacotes\n",
    "require(dplyr)\n",
    "require(tidyr)\n",
    "require(bootstrap)\n",
    "require(ggplot2)\n",
    "\n",
    "#Carregando e Configurando Dados\n",
    "setwd(\"C:/Users/pedro/Desktop/\")\n",
    "data = read.table(\"XIS_PLAYERS.txt\",header = TRUE, sep = \"\\t\")\n",
    "str(data)"
   ]
  },
  {
   "cell_type": "code",
   "execution_count": 8,
   "id": "3241cc35",
   "metadata": {},
   "outputs": [
    {
     "data": {
      "text/plain": [
       "     PLAYER       KILLS            DEADS           ASS             DANO     \n",
       " GOABE  :82   Min.   : 0.000   Min.   :0.00   Min.   :0.000   Min.   :   0  \n",
       " CAUE   :73   1st Qu.: 0.000   1st Qu.:1.00   1st Qu.:0.000   1st Qu.: 400  \n",
       " ICE    :72   Median : 1.000   Median :1.00   Median :1.000   Median : 908  \n",
       " GLAUCO :69   Mean   : 1.881   Mean   :1.24   Mean   :1.343   Mean   :1060  \n",
       " HAK    :45   3rd Qu.: 3.000   3rd Qu.:2.00   3rd Qu.:2.000   3rd Qu.:1426  \n",
       " MOTOVEA:38   Max.   :10.000   Max.   :5.00   Max.   :9.000   Max.   :5743  \n",
       " (Other):69   NA's   :2        NA's   :2      NA's   :2       NA's   :2     \n",
       "   DERRUBADOS          CURA             SAVES         USO.RETORNO    \n",
       " Min.   : 0.000   Min.   :   0.00   Min.   :0.0000   Min.   :0.0000  \n",
       " 1st Qu.: 1.000   1st Qu.:  90.75   1st Qu.:0.0000   1st Qu.:0.0000  \n",
       " Median : 2.000   Median : 279.50   Median :0.0000   Median :0.0000  \n",
       " Mean   : 2.256   Mean   : 381.97   Mean   :0.3049   Mean   :0.3924  \n",
       " 3rd Qu.: 3.000   3rd Qu.: 540.75   3rd Qu.:0.0000   3rd Qu.:1.0000  \n",
       " Max.   :12.000   Max.   :3676.00   Max.   :3.0000   Max.   :4.0000  \n",
       " NA's   :2        NA's   :2         NA's   :2        NA's   :2       \n",
       "   SURVIVE_M       SURVIVE_S        MATCH_ID     \n",
       " Min.   : 0.00   Min.   : 0.00   Min.   :  1.00  \n",
       " 1st Qu.: 9.25   1st Qu.:16.00   1st Qu.: 28.75  \n",
       " Median :12.00   Median :30.00   Median : 56.50  \n",
       " Mean   :11.14   Mean   :29.35   Mean   : 56.50  \n",
       " 3rd Qu.:13.00   3rd Qu.:42.00   3rd Qu.: 84.25  \n",
       " Max.   :16.00   Max.   :59.00   Max.   :112.00  \n",
       " NA's   :2       NA's   :2                       "
      ]
     },
     "metadata": {},
     "output_type": "display_data"
    }
   ],
   "source": [
    "summary(data)"
   ]
  },
  {
   "cell_type": "code",
   "execution_count": 14,
   "id": "0110d709",
   "metadata": {
    "scrolled": true
   },
   "outputs": [
    {
     "data": {
      "text/html": [
       "<table>\n",
       "<thead><tr><th scope=col>line</th><th scope=col>linekills</th><th scope=col>id</th></tr></thead>\n",
       "<tbody>\n",
       "\t<tr><td>ALVES  </td><td>2      </td><td>1      </td></tr>\n",
       "\t<tr><td>GLAUCO </td><td>0      </td><td>1      </td></tr>\n",
       "\t<tr><td>KENIDY </td><td>1      </td><td>1      </td></tr>\n",
       "\t<tr><td>RZN    </td><td>1      </td><td>1      </td></tr>\n",
       "\t<tr><td>GOABE  </td><td>6      </td><td>2      </td></tr>\n",
       "\t<tr><td>KENIDY </td><td>0      </td><td>2      </td></tr>\n",
       "\t<tr><td>MOTOVEA</td><td>0      </td><td>2      </td></tr>\n",
       "\t<tr><td>RZN    </td><td>0      </td><td>2      </td></tr>\n",
       "</tbody>\n",
       "</table>\n"
      ],
      "text/latex": [
       "\\begin{tabular}{r|lll}\n",
       " line & linekills & id\\\\\n",
       "\\hline\n",
       "\t ALVES   & 2       & 1      \\\\\n",
       "\t GLAUCO  & 0       & 1      \\\\\n",
       "\t KENIDY  & 1       & 1      \\\\\n",
       "\t RZN     & 1       & 1      \\\\\n",
       "\t GOABE   & 6       & 2      \\\\\n",
       "\t KENIDY  & 0       & 2      \\\\\n",
       "\t MOTOVEA & 0       & 2      \\\\\n",
       "\t RZN     & 0       & 2      \\\\\n",
       "\\end{tabular}\n"
      ],
      "text/markdown": [
       "\n",
       "| line | linekills | id |\n",
       "|---|---|---|\n",
       "| ALVES   | 2       | 1       |\n",
       "| GLAUCO  | 0       | 1       |\n",
       "| KENIDY  | 1       | 1       |\n",
       "| RZN     | 1       | 1       |\n",
       "| GOABE   | 6       | 2       |\n",
       "| KENIDY  | 0       | 2       |\n",
       "| MOTOVEA | 0       | 2       |\n",
       "| RZN     | 0       | 2       |\n",
       "\n"
      ],
      "text/plain": [
       "  line    linekills id\n",
       "1 ALVES   2         1 \n",
       "2 GLAUCO  0         1 \n",
       "3 KENIDY  1         1 \n",
       "4 RZN     1         1 \n",
       "5 GOABE   6         2 \n",
       "6 KENIDY  0         2 \n",
       "7 MOTOVEA 0         2 \n",
       "8 RZN     0         2 "
      ]
     },
     "metadata": {},
     "output_type": "display_data"
    }
   ],
   "source": [
    "#Criando função de bootstrap e simulando as formações de equipes\n",
    "dados = na.omit(data[,c('PLAYER','KILLS')])\n",
    "\n",
    "n = 30000\n",
    "simulator = function(d,B){\n",
    "  sim = data.frame()\n",
    "  for(i in 1:B){\n",
    "    players = unique(d$PLAYER)\n",
    "  \n",
    "    line = sort(sample(players,4))\n",
    "    linekills = c(sample(d[d$PLAYER == line[1],]$KILLS,1),\n",
    "                  sample(d[d$PLAYER == line[2],]$KILLS,1),\n",
    "                  sample(d[d$PLAYER == line[3],]$KILLS,1),\n",
    "                  sample(d[d$PLAYER == line[4],]$KILLS,1))\n",
    "    id = rep(i,4)\n",
    "    sim = rbind(sim,data.frame(line,linekills,id))\n",
    "  }\n",
    "  sim\n",
    "}\n",
    "\n",
    "set.seed(11721201)\n",
    "fim = simulator(dados,n)\n",
    "head(fim,8)"
   ]
  },
  {
   "cell_type": "code",
   "execution_count": 16,
   "id": "e10f1a86",
   "metadata": {},
   "outputs": [
    {
     "data": {
      "text/html": [
       "<table>\n",
       "<thead><tr><th scope=col>line</th><th scope=col>mean_kills</th></tr></thead>\n",
       "<tbody>\n",
       "\t<tr><td>ALVES    </td><td>1.0041663</td></tr>\n",
       "\t<tr><td>CAUE     </td><td>1.8203071</td></tr>\n",
       "\t<tr><td>GELO     </td><td>1.3458692</td></tr>\n",
       "\t<tr><td>GLAUCO   </td><td>2.6377551</td></tr>\n",
       "\t<tr><td>GOABE    </td><td>1.7465072</td></tr>\n",
       "\t<tr><td>GUSTAXL  </td><td>1.4548736</td></tr>\n",
       "\t<tr><td>HAK      </td><td>1.7132235</td></tr>\n",
       "\t<tr><td>ICE      </td><td>1.9824103</td></tr>\n",
       "\t<tr><td>KENIDY   </td><td>0.6694822</td></tr>\n",
       "\t<tr><td>MOTOVEA  </td><td>2.5100658</td></tr>\n",
       "\t<tr><td>MUNIZ22  </td><td>0.5391339</td></tr>\n",
       "\t<tr><td>RZN      </td><td>1.0320564</td></tr>\n",
       "</tbody>\n",
       "</table>\n"
      ],
      "text/latex": [
       "\\begin{tabular}{r|ll}\n",
       " line & mean\\_kills\\\\\n",
       "\\hline\n",
       "\t ALVES     & 1.0041663\\\\\n",
       "\t CAUE      & 1.8203071\\\\\n",
       "\t GELO      & 1.3458692\\\\\n",
       "\t GLAUCO    & 2.6377551\\\\\n",
       "\t GOABE     & 1.7465072\\\\\n",
       "\t GUSTAXL   & 1.4548736\\\\\n",
       "\t HAK       & 1.7132235\\\\\n",
       "\t ICE       & 1.9824103\\\\\n",
       "\t KENIDY    & 0.6694822\\\\\n",
       "\t MOTOVEA   & 2.5100658\\\\\n",
       "\t MUNIZ22   & 0.5391339\\\\\n",
       "\t RZN       & 1.0320564\\\\\n",
       "\\end{tabular}\n"
      ],
      "text/markdown": [
       "\n",
       "| line | mean_kills |\n",
       "|---|---|\n",
       "| ALVES     | 1.0041663 |\n",
       "| CAUE      | 1.8203071 |\n",
       "| GELO      | 1.3458692 |\n",
       "| GLAUCO    | 2.6377551 |\n",
       "| GOABE     | 1.7465072 |\n",
       "| GUSTAXL   | 1.4548736 |\n",
       "| HAK       | 1.7132235 |\n",
       "| ICE       | 1.9824103 |\n",
       "| KENIDY    | 0.6694822 |\n",
       "| MOTOVEA   | 2.5100658 |\n",
       "| MUNIZ22   | 0.5391339 |\n",
       "| RZN       | 1.0320564 |\n",
       "\n"
      ],
      "text/plain": [
       "   line    mean_kills\n",
       "1  ALVES   1.0041663 \n",
       "2  CAUE    1.8203071 \n",
       "3  GELO    1.3458692 \n",
       "4  GLAUCO  2.6377551 \n",
       "5  GOABE   1.7465072 \n",
       "6  GUSTAXL 1.4548736 \n",
       "7  HAK     1.7132235 \n",
       "8  ICE     1.9824103 \n",
       "9  KENIDY  0.6694822 \n",
       "10 MOTOVEA 2.5100658 \n",
       "11 MUNIZ22 0.5391339 \n",
       "12 RZN     1.0320564 "
      ]
     },
     "metadata": {},
     "output_type": "display_data"
    }
   ],
   "source": [
    "#Tratando dados do dataframe de formações e criando visualização final\n",
    "fim %>% group_by(line) %>%\n",
    "  summarise(mean_kills = mean(linekills))\n",
    "\n",
    "subset = fim %>% spread(key = line,value = linekills)\n",
    "\n",
    "clines = c()\n",
    "for(i in 1:nrow(subset)){\n",
    "  a = sort(colnames(subset[i, colSums(is.na(subset[i,])) == 0])[-1])\n",
    "  clines[i] = paste(a[1],a[2],a[3],a[4])\n",
    "}\n",
    "\n",
    "subset$clines = clines\n",
    "soma = c()\n",
    "for(i in 1:nrow(subset)){\n",
    "  soma[i] = sum(subset[i,2:(ncol(subset)-1)],na.rm = TRUE)\n",
    "}\n",
    "subset$klines = soma\n",
    "\n",
    "view = data.frame(subset %>% group_by(clines) %>% summarise(matchs = n(),mean_kills_line = mean(klines),sd_kills_line = sd(klines)) %>% arrange(desc(mean_kills_line)))\n",
    "\n",
    "view$cv = (view$sd_kills_line/view$mean_kills_line)*100"
   ]
  },
  {
   "cell_type": "code",
   "execution_count": 68,
   "id": "37dc811a",
   "metadata": {},
   "outputs": [
    {
     "data": {
      "image/png": "[encoded data removed]",
      "text/plain": [
       "plot without title"
      ]
     },
     "metadata": {},
     "output_type": "display_data"
    }
   ],
   "source": [
    "ggplot(data = top_n(view,10,mean_kills_line), mapping = aes(y = mean_kills_line, x = reorder(clines,-mean_kills_line), fill = clines))+\n",
    "  geom_col()+\n",
    "  geom_text(aes(label = round(mean_kills_line,2)),hjust = 'center',col = 'white',vjust = +1.5)+\n",
    "  xlab('Lines')+\n",
    "  ylab('Média de Kills')+\n",
    "  ggtitle('10 Melhores Lines em uma Simulação de 30000 Partidas')+\n",
    "  theme(axis.text.x=element_blank(),\n",
    "        axis.ticks.x=element_blank())"
   ]
  },
  {
   "cell_type": "markdown",
   "id": "c5bb15bb",
   "metadata": {},
   "source": [
    "## Conclusões Finais"
   ]
  },
  {
   "cell_type": "markdown",
   "id": "ed240450",
   "metadata": {},
   "source": [
    "Portanto, a partir do método bootstrap podemos concluir que a melhor em relação a média de kills é a composta pelos jogadores GLAUCO, GOABE, HAK e MOTOVEA. E assim, conseguiriamos direcionar a comissão técnica para contratar esses jogadores para a equipe principal, além da possibilidade de incluir mais 1 ou 2 player pra compor o elenco, escolhendo os 2 que juntos aos demais estariam entre as melhores lines formadas a partir do critério, que nesse caso seriam o GUSTAXL e GELO. Poderíamos também criar novas métricar a partir do conjunto de dados com finalidade de visualizar quais seriam as melhores lines compostas por elas e assim ter mais ferramentas pra tomada de decisão, além também de poder granularizar essa análise para diferentes situações impostas pelo jogo, como :\n",
    "- Melhores Lines por Mapa\n",
    "- Melhores Lines por Estilo de Jogo\n",
    "- Melhores Lines por Estratégia"
   ]
  }
 ],
 "metadata": {
  "kernelspec": {
   "display_name": "R",
   "language": "R",
   "name": "ir"
  },
  "language_info": {
   "codemirror_mode": "r",
   "file_extension": ".r",
   "mimetype": "text/x-r-source",
   "name": "R",
   "pygments_lexer": "r",
   "version": "3.6.1"
  }
 },
 "nbformat": 4,
 "nbformat_minor": 5
}
